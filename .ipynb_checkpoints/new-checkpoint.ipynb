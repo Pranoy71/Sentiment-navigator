{
 "cells": [
  {
   "cell_type": "code",
   "execution_count": 1,
   "id": "463a1ebb-4072-43aa-8ece-c01b20f2fb8f",
   "metadata": {},
   "outputs": [],
   "source": [
    "import pandas as pd\n",
    "train=pd.read_table('train.txt', delimiter = ';', header=None, )\n",
    "val=pd.read_table('val.txt', delimiter = ';', header=None, )\n",
    "test=pd.read_table('test.txt', delimiter = ';', header=None, )\n",
    "\n",
    "data_normal = pd.concat([train ,  val , test])\n",
    "data_normal.columns = [\"text\", \"label\"]\n",
    "data_normal\n",
    "\n",
    "data = data_normal #= pd.read_csv('data.csv')\n"
   ]
  },
  {
   "cell_type": "code",
   "execution_count": 2,
   "id": "1abde9ce-fb57-4bb8-a0e7-56caff2c5f95",
   "metadata": {},
   "outputs": [
    {
     "data": {
      "text/plain": [
       "20000"
      ]
     },
     "execution_count": 2,
     "metadata": {},
     "output_type": "execute_result"
    }
   ],
   "source": [
    "len(data)"
   ]
  },
  {
   "cell_type": "code",
   "execution_count": 3,
   "id": "bd047d80-5ea7-4ce7-9b6d-c140150d94e3",
   "metadata": {},
   "outputs": [
    {
     "data": {
      "text/plain": [
       "array(['sadness', 'anger', 'love', 'surprise', 'fear', 'joy'],\n",
       "      dtype=object)"
      ]
     },
     "execution_count": 3,
     "metadata": {},
     "output_type": "execute_result"
    }
   ],
   "source": [
    "unq= data['label'].unique()\n",
    "unq"
   ]
  },
  {
   "cell_type": "code",
   "execution_count": 5,
   "id": "7837bdde-2db0-4450-85ad-3aca194cab70",
   "metadata": {},
   "outputs": [],
   "source": [
    "from sklearn.model_selection import train_test_split\n",
    "\n",
    "X = data['text']  \n",
    "y = data['label'] \n",
    "X_train, X_test, y_train, y_test = train_test_split(X, y, test_size=0.2, random_state=42)\n"
   ]
  },
  {
   "cell_type": "code",
   "execution_count": 9,
   "id": "d289c6f0-3583-4db6-ba74-1dc7238f1b81",
   "metadata": {},
   "outputs": [
    {
     "name": "stderr",
     "output_type": "stream",
     "text": [
      "C:\\Users\\Bishal\\AppData\\Local\\Programs\\Python\\Python310\\lib\\site-packages\\sklearn\\linear_model\\_logistic.py:458: ConvergenceWarning: lbfgs failed to converge (status=1):\n",
      "STOP: TOTAL NO. of ITERATIONS REACHED LIMIT.\n",
      "\n",
      "Increase the number of iterations (max_iter) or scale the data as shown in:\n",
      "    https://scikit-learn.org/stable/modules/preprocessing.html\n",
      "Please also refer to the documentation for alternative solver options:\n",
      "    https://scikit-learn.org/stable/modules/linear_model.html#logistic-regression\n",
      "  n_iter_i = _check_optimize_result(\n"
     ]
    },
    {
     "name": "stdout",
     "output_type": "stream",
     "text": [
      "              precision    recall  f1-score   support\n",
      "\n",
      "       anger       0.90      0.87      0.88       540\n",
      "        fear       0.83      0.85      0.84       442\n",
      "         joy       0.90      0.94      0.92      1335\n",
      "        love       0.82      0.76      0.79       332\n",
      "     sadness       0.93      0.94      0.94      1195\n",
      "    surprise       0.83      0.68      0.75       156\n",
      "\n",
      "    accuracy                           0.89      4000\n",
      "   macro avg       0.87      0.84      0.85      4000\n",
      "weighted avg       0.89      0.89      0.89      4000\n",
      "\n",
      "[[ 468   14   22    5   29    2]\n",
      " [  16  375   13    2   19   17]\n",
      " [   5   11 1254   40   23    2]\n",
      " [   5    3   68  252    4    0]\n",
      " [  23   17   24    7 1123    1]\n",
      " [   1   33    9    0    7  106]]\n"
     ]
    }
   ],
   "source": [
    "from sklearn.feature_extraction.text import TfidfVectorizer\n",
    "from sklearn.linear_model import LogisticRegression\n",
    "from sklearn.metrics import classification_report, confusion_matrix\n",
    "from sklearn.pipeline import Pipeline\n",
    "from sklearn.feature_extraction.text import CountVectorizer\n",
    "\n",
    "\n",
    "pipeline = Pipeline([\n",
    "    ('countvectorizer', CountVectorizer(max_features=5000)),  \n",
    "    ('classifier', LogisticRegression())\n",
    "])\n",
    "\n",
    "\n",
    "pipeline.fit(X_train, y_train)\n",
    "\n",
    "\n",
    "y_pred = pipeline.predict(X_test)\n",
    "\n",
    "\n",
    "print(classification_report(y_test, y_pred))\n",
    "print(confusion_matrix(y_test, y_pred))\n"
   ]
  },
  {
   "cell_type": "code",
   "execution_count": 4,
   "id": "48b2e22b-2f01-46f8-956d-3d3a149aeeba",
   "metadata": {},
   "outputs": [],
   "source": [
    "from joblib import dump, load\n",
    "\n",
    "# saving the model\n",
    "model_filename = 'sentiment_model.joblib'\n",
    "#dump(pipeline, model_filename)\n",
    "\n",
    "# Load the model from the file \n",
    "loaded_model = load(model_filename)\n",
    "\n",
    "\n",
    "def predict_sentiment(text):\n",
    "   \n",
    "    prediction = loaded_model.predict([text])\n",
    "    return prediction[0]  #returing the predicted class label\n",
    "\n",
    "\n"
   ]
  },
  {
   "cell_type": "code",
   "execution_count": 11,
   "id": "e7df548b-e708-4604-a114-e5921d4c90ab",
   "metadata": {},
   "outputs": [
    {
     "name": "stdout",
     "output_type": "stream",
     "text": [
      "The predicted sentiment for the text is: sadness\n"
     ]
    }
   ],
   "source": [
    "\n",
    "new_text = \"I have to stay in a new  city.\"\n",
    "predicted_sentiment = predict_sentiment(new_text)\n",
    "print(f\"The predicted sentiment for the text is: {predicted_sentiment}\")\n",
    "\n",
    "\n"
   ]
  },
  {
   "cell_type": "code",
   "execution_count": 14,
   "id": "fc0569a0-e0c0-41cd-8280-ea3d31f70184",
   "metadata": {},
   "outputs": [
    {
     "name": "stdout",
     "output_type": "stream",
     "text": [
      "The accuracy of the model is: 0.89\n"
     ]
    }
   ],
   "source": [
    "from sklearn.metrics import accuracy_score\n",
    "\n",
    "\n",
    "y_pred = loaded_model.predict(X_test)\n",
    "\n",
    "\n",
    "accuracy = accuracy_score(y_test, y_pred)\n",
    "\n",
    "print(f\"The accuracy of the model is: {accuracy:.2f}\")\n"
   ]
  },
  {
   "cell_type": "code",
   "execution_count": null,
   "id": "22712aa2-e353-48da-b876-226a747d453a",
   "metadata": {},
   "outputs": [],
   "source": []
  },
  {
   "cell_type": "code",
   "execution_count": null,
   "id": "bd3cc5bc-a20b-4ab0-9338-01035bb6ef23",
   "metadata": {},
   "outputs": [],
   "source": [
    "#-------------------------------------------------Random forest classfier---------------------------------------------#"
   ]
  },
  {
   "cell_type": "code",
   "execution_count": null,
   "id": "2f3afc07-20ab-48b4-8ff4-7967060794ab",
   "metadata": {},
   "outputs": [],
   "source": []
  },
  {
   "cell_type": "code",
   "execution_count": 16,
   "id": "be7d27fb-850b-439a-b9f1-a07a26934619",
   "metadata": {},
   "outputs": [
    {
     "name": "stdout",
     "output_type": "stream",
     "text": [
      "              precision    recall  f1-score   support\n",
      "\n",
      "       anger       0.88      0.86      0.87       540\n",
      "        fear       0.81      0.85      0.83       442\n",
      "         joy       0.86      0.93      0.89      1335\n",
      "        love       0.84      0.72      0.77       332\n",
      "     sadness       0.93      0.90      0.92      1195\n",
      "    surprise       0.82      0.68      0.74       156\n",
      "\n",
      "    accuracy                           0.88      4000\n",
      "   macro avg       0.86      0.82      0.84      4000\n",
      "weighted avg       0.88      0.88      0.87      4000\n",
      "\n",
      "[[ 463   13   39    4   20    1]\n",
      " [  14  377   18    3   16   14]\n",
      " [   9   17 1239   31   36    3]\n",
      " [   2    2   87  238    2    1]\n",
      " [  38   21   44    9 1078    5]\n",
      " [   2   37    9    0    2  106]]\n",
      "The predicted sentiment for the text using Random Forest is: sadness\n",
      "The accuracy of the Random Forest model is: 0.88\n"
     ]
    }
   ],
   "source": [
    "from sklearn.ensemble import RandomForestClassifier\n",
    "\n",
    "\n",
    "pipeline_rf = Pipeline([\n",
    "    ('vectorizer', CountVectorizer(max_features=5000)),  # You can tune max_features\n",
    "    ('classifier', RandomForestClassifier(n_estimators=100, random_state=42))  # Default number of trees is 100\n",
    "])\n",
    "\n",
    "\n",
    "pipeline_rf.fit(X_train, y_train)\n",
    "\n",
    "\n",
    "y_pred_rf = pipeline_rf.predict(X_test)\n",
    "\n",
    "\n",
    "print(classification_report(y_test, y_pred_rf))\n",
    "print(confusion_matrix(y_test, y_pred_rf))\n",
    "\n",
    "\n",
    "model_filename_rf = 'sentiment_model_rf.joblib'\n",
    "dump(pipeline_rf, model_filename_rf)\n",
    "\n",
    "\n",
    "loaded_model_rf = load(model_filename_rf)\n",
    "\n",
    "\n",
    "def predict_sentiment_rf(text):\n",
    "    prediction_rf = loaded_model_rf.predict([text])\n",
    "    return prediction_rf[0]  \n",
    "\n",
    "\n",
    "new_text_rf = \"Did you know that when you visit Cellular Jail. The walls of the mansion seem to whisper secrets of its dirty past.\"\n",
    "predicted_sentiment_rf = predict_sentiment_rf(new_text_rf)\n",
    "print(f\"The predicted sentiment for the text using Random Forest is: {predicted_sentiment_rf}\")\n",
    "\n",
    "\n",
    "accuracy_rf = accuracy_score(y_test, y_pred_rf)\n",
    "print(f\"The accuracy of the Random Forest model is: {accuracy_rf:.2f}\")\n"
   ]
  },
  {
   "cell_type": "code",
   "execution_count": null,
   "id": "0a63def1-e6a4-4ced-9911-8a09e17db103",
   "metadata": {},
   "outputs": [],
   "source": []
  },
  {
   "cell_type": "code",
   "execution_count": null,
   "id": "1f040930-de95-4623-bc9d-e2061025cee3",
   "metadata": {},
   "outputs": [],
   "source": [
    "#-------------------------------------support vector machine------------------------------------------#"
   ]
  },
  {
   "cell_type": "code",
   "execution_count": null,
   "id": "3ea75b32-3cc4-4bcc-a6c7-cd6f548482c3",
   "metadata": {},
   "outputs": [],
   "source": []
  },
  {
   "cell_type": "code",
   "execution_count": 20,
   "id": "48be35c9-dfb8-4cc9-a4d7-239b3b81b611",
   "metadata": {},
   "outputs": [
    {
     "name": "stdout",
     "output_type": "stream",
     "text": [
      "              precision    recall  f1-score   support\n",
      "\n",
      "       anger       0.86      0.89      0.88       540\n",
      "        fear       0.83      0.85      0.84       442\n",
      "         joy       0.90      0.92      0.91      1335\n",
      "        love       0.80      0.75      0.78       332\n",
      "     sadness       0.93      0.91      0.92      1195\n",
      "    surprise       0.76      0.69      0.72       156\n",
      "\n",
      "    accuracy                           0.88      4000\n",
      "   macro avg       0.85      0.84      0.84      4000\n",
      "weighted avg       0.88      0.88      0.88      4000\n",
      "\n",
      "[[ 479   11   18    6   26    0]\n",
      " [  20  374    8    1   15   24]\n",
      " [  17   13 1228   45   28    4]\n",
      " [   4    1   72  250    4    1]\n",
      " [  33   25   29   11 1091    6]\n",
      " [   1   29   14    0    4  108]]\n",
      "The predicted sentiment for the text using SVM is: sadness\n",
      "The accuracy of the SVM model is: 0.88\n"
     ]
    }
   ],
   "source": [
    "from sklearn.svm import SVC\n",
    "\n",
    "\n",
    "pipeline_svm = Pipeline([\n",
    "    ('vectorizer', CountVectorizer(max_features=10000)),  \n",
    "    ('classifier', SVC(kernel='linear', random_state=42)) \n",
    "])\n",
    "\n",
    "\n",
    "pipeline_svm.fit(X_train, y_train)\n",
    "\n",
    "\n",
    "y_pred_svm = pipeline_svm.predict(X_test)\n",
    "\n",
    "\n",
    "print(classification_report(y_test, y_pred_svm))\n",
    "print(confusion_matrix(y_test, y_pred_svm))\n",
    "\n",
    "\n",
    "model_filename_svm = 'sentiment_model_svm.joblib'\n",
    "dump(pipeline_svm, model_filename_svm)\n",
    "\n",
    "\n",
    "loaded_model_svm = load(model_filename_svm)\n",
    "\n",
    "\n",
    "def predict_sentiment_svm(text):\n",
    "    prediction_svm = loaded_model_svm.predict([text])\n",
    "    return prediction_svm[0] \n",
    "\n",
    "# Example usage with the SVM model:\n",
    "new_text_svm = \"Did you know that when you visit Cellular Jail. The walls of the mansion seem to whisper secrets of its dirty past. i dont know how to exprex that\"\n",
    "\n",
    "predicted_sentiment_svm = predict_sentiment_svm(new_text_svm)\n",
    "print(f\"The predicted sentiment for the text using SVM is: {predicted_sentiment_svm}\")\n",
    "\n",
    "# Evaluate the accuracy of the SVM model\n",
    "accuracy_svm = accuracy_score(y_test, y_pred_svm)\n",
    "print(f\"The accuracy of the SVM model is: {accuracy_svm:.2f}\")\n"
   ]
  },
  {
   "cell_type": "code",
   "execution_count": 30,
   "id": "b6caf76e-c11d-46c9-99b6-3fd3b29f6bd2",
   "metadata": {},
   "outputs": [
    {
     "name": "stdout",
     "output_type": "stream",
     "text": [
      "The predicted sentiment for the text using SVM is: sadness\n",
      "The accuracy of the SVM model is: 0.88\n"
     ]
    }
   ],
   "source": [
    "# Load the SVM model from the file\n",
    "loaded_model_svm = load(model_filename_svm)\n",
    "\n",
    "\n",
    "def predict_sentiment_svm(text):\n",
    "    prediction_svm = loaded_model_svm.predict([text])\n",
    "    return prediction_svm[0]  # Return the predicted class label for the text\n",
    "\n",
    "\n",
    "new_text_svm = \"Loud noises remind me of the war zone I escaped.\"\n",
    "\n",
    "predicted_sentiment_svm = predict_sentiment_svm(new_text_svm)\n",
    "print(f\"The predicted sentiment for the text using SVM is: {predicted_sentiment_svm}\")\n",
    "\n",
    "\n",
    "accuracy_svm = accuracy_score(y_test, y_pred_svm)\n",
    "print(f\"The accuracy of the SVM model is: {accuracy_svm:.2f}\")\n"
   ]
  },
  {
   "cell_type": "code",
   "execution_count": null,
   "id": "f57c4cfc-3113-4cb3-a5bb-f324f4739e55",
   "metadata": {},
   "outputs": [],
   "source": []
  }
 ],
 "metadata": {
  "kernelspec": {
   "display_name": "Python 3 (ipykernel)",
   "language": "python",
   "name": "python3"
  },
  "language_info": {
   "codemirror_mode": {
    "name": "ipython",
    "version": 3
   },
   "file_extension": ".py",
   "mimetype": "text/x-python",
   "name": "python",
   "nbconvert_exporter": "python",
   "pygments_lexer": "ipython3",
   "version": "3.10.6"
  }
 },
 "nbformat": 4,
 "nbformat_minor": 5
}
